{
 "cells": [
  {
   "cell_type": "markdown",
   "metadata": {},
   "source": [
    "## Cordic算法"
   ]
  },
  {
   "cell_type": "markdown",
   "metadata": {},
   "source": [
    "### 算法简介\n",
    "1971年， Walther提出Cordic统一算法  \n",
    "算法公式：\n",
    "$$\n",
    "\\begin{bmatrix}\n",
    " x(n)\\\\y(n)\n",
    "\n",
    "\\end{bmatrix}=\\prod_{i=1}^{n}\\cos (m^{1/2}a_{i} ) \\begin{bmatrix}\n",
    " 1 & -m^{1/2}\\sigma _{i}\\tan (m^{1/2}a_i)\\\\m^{1/2}\\sigma _{i}\\tan (m^{1/2}a_i)\n",
    "  &1\n",
    "\\end{bmatrix}\\begin{bmatrix}\n",
    " x(0)\\\\y(0)\n",
    "\n",
    "\\end{bmatrix}$$\n"
   ]
  },
  {
   "cell_type": "markdown",
   "metadata": {},
   "source": [
    "$$Z(n)=Z(0)+\\sum_{i=0}^{n}\\sigma  _ia_i$$"
   ]
  },
  {
   "cell_type": "markdown",
   "metadata": {},
   "source": [
    "$$------运算--------$$\n",
    "$$圆周运算： m = 1$$\n",
    "$$双曲旋转运算： m = -1$$\n",
    "$$线形旋转运算: m = 0 $$\n",
    "$$------模式--------$$\n",
    "$$ 旋转模式：结果使Z(n)=0 $$ \n",
    "$$ 向量模式：结果使y(n)=0 $$"
   ]
  },
  {
   "cell_type": "markdown",
   "metadata": {},
   "source": [
    "$$\\sigma _i=\\left\\{\\begin{matrix}\\ \\ \\ \\ sign(Z(i))\\ \\  in\\ rotation\\  mode\\\\sign(y(i))\\ \\  in\\ vector\\ mode\n",
    "\\end{matrix}\\right.$$"
   ]
  },
  {
   "cell_type": "markdown",
   "metadata": {},
   "source": [
    "常用微转角$a_i$旋转方案为  \n",
    "$$tan(a{_i})=2^{-i}\\ \\ m=1$$ \n",
    "$$tanh(a{_i})=2^{-i}\\ \\ m=-1$$ \n",
    "$$a{_i}=2^{-i}\\ \\ m=1$$"
   ]
  },
  {
   "cell_type": "markdown",
   "metadata": {},
   "source": [
    "迭代运算为：  \n",
    "$$X_{i+1}=X_i-m\\times \\sigma _i\\times Y_i \\times 2^{-i}$$\n",
    "$$Y_{i+1}=Y_i+\\sigma _i\\times X_i \\times 2^{-i}$$\n",
    "$$Z_{i+1}=Z_i-\\sigma _i \\times a_i$$"
   ]
  },
  {
   "cell_type": "markdown",
   "metadata": {},
   "source": [
    "在所有级旋转之后进行一次模校正运算，模校正因子：\n",
    "$$k_{m,n}=\\prod_{i=1}^{n}cos(m^{1/2}a_i) $$"
   ]
  },
  {
   "cell_type": "markdown",
   "metadata": {},
   "source": [
    "### 公式中的一些提前可算参数以及旋转模式下计算$\\cos$函数\n",
    "旋转模式：  \n",
    "初始值：$x_0=K$ ; $Y_0=0$ ;    $Z_n=\\theta$  \n",
    "输出：$x_n=\\cos(\\theta)$   ;  $Y_n=\\sin(\\theta)$  ;   $Z_n=0$"
   ]
  },
  {
   "cell_type": "markdown",
   "metadata": {},
   "source": [
    "1. 微转角$a_i$：$$tan(a{_i})=2^{-i}\\ \\ m=1$$ "
   ]
  },
  {
   "cell_type": "code",
   "execution_count": 41,
   "metadata": {},
   "outputs": [
    {
     "name": "stdout",
     "output_type": "stream",
     "text": [
      "[0.7853981633974483, 0.4636476090008061, 0.24497866312686414, 0.12435499454676144, 0.06241880999595735, 0.031239833430268277, 0.015623728620476831, 0.007812341060101111, 0.0039062301319669718, 0.0019531225164788188, 0.0009765621895593195, 0.0004882812111948983, 0.00024414062014936177, 0.00012207031189367021, 6.103515617420877e-05]\n"
     ]
    }
   ],
   "source": [
    "import numpy as np\n",
    "def cal_a_i(n): #计算n次迭代之后的旋转角数组\n",
    "    a_i = []\n",
    "    for i in range(n):\n",
    "        a_i.append(np.arctan(pow(2,-i)))\n",
    "    return a_i  \n",
    "a_i_test = cal_a_i(15)\n",
    "print(a_i_test)"
   ]
  },
  {
   "cell_type": "markdown",
   "metadata": {},
   "source": [
    "2. 模校正因子$k_{m,n}$\n",
    "$$k_{m,n}=\\prod_{i=1}^{n}cos(m^{1/2}a_i) $$"
   ]
  },
  {
   "cell_type": "code",
   "execution_count": 42,
   "metadata": {},
   "outputs": [
    {
     "name": "stdout",
     "output_type": "stream",
     "text": [
      "[0.7071067811865476, 0.6324555320336759, 0.6135719910778964, 0.6088339125177524, 0.6076482562561683, 0.607351770141296, 0.6072776440935261, 0.6072591122988928, 0.6072544793325625, 0.6072533210898753]\n"
     ]
    }
   ],
   "source": [
    "def cal_k(m, n, a_i):\n",
    "    k = []\n",
    "    for i in range(n):\n",
    "        if len(k) == 0:\n",
    "            k.append(np.cos(pow(m, 1/2)*a_i[0]))\n",
    "        else:\n",
    "            k.append(k[-1]*np.cos(pow(m, 1/2)*a_i[i]))\n",
    "    return k\n",
    "k_test = cal_k(1, 10, a_i_test)  #旋转模式\n",
    "print(k_test)"
   ]
  },
  {
   "cell_type": "markdown",
   "metadata": {},
   "source": [
    "### Python算法实现参考"
   ]
  },
  {
   "cell_type": "markdown",
   "metadata": {},
   "source": [
    "_将Cordic库加入路径_  \n",
    "_Cordic_ 库来源于 https://people.sc.fsu.edu/~jburkardt/py_src/cordic/cordic.py\n",
    "具体代码:[Cordic_Python计算](./src/Cordic.py)"
   ]
  },
  {
   "cell_type": "code",
   "execution_count": 43,
   "metadata": {},
   "outputs": [],
   "source": [
    "import sys\n",
    "import numpy as np\n",
    "sys.path.append('./src')\n",
    "import Cordic"
   ]
  },
  {
   "cell_type": "markdown",
   "metadata": {},
   "source": [
    "1. 将输入rad制的角度 归一化  \n",
    "**angle_shift $(\\alpha, \\beta)$**shifts angle $\\alpha$ to lie between $\\beta$ and $\\beta+2\\pi$.(the result is $\\gamma$)  其他函数先调用了这个函数  \n",
    "The resulting angle $\\gamma$ has all the same trigonometric function values as $\\alpha$.\n",
    "\n",
    "$$\\cos((\\beta-\\alpha) \\bmod 2*\\pi) = \\cos(\\beta-\\alpha)$$\n",
    "$$\\cos(\\gamma) = cos(\\alpha) $$\n",
    "\n",
    "$if \\alpha<\\beta:$  \n",
    "$ \\gamma = \\beta - ((\\beta-\\alpha) \\bmod 2*\\pi)+2\\pi$  \n",
    "$else:$  \n",
    "$ \\gamma = \\beta + ((\\alpha-\\beta) \\bmod 2*\\pi)$"
   ]
  },
  {
   "cell_type": "code",
   "execution_count": 44,
   "metadata": {},
   "outputs": [
    {
     "name": "stdout",
     "output_type": "stream",
     "text": [
      "\n",
      "angle_shift_test:\n",
      "  angle_shift() shifts angle ALPHA to lie between\n",
      "  BETA and BETA+2 PI.\n",
      "\n",
      "           ALPHA          BETA   ALPHA_SHIFT     BETA+2 PI\n",
      "\n",
      "     -7.987035      6.090034     10.862521     12.373220\n",
      "     -7.972752      6.090034     10.876804     12.373220\n",
      "     -4.340241      6.090034      8.226130     12.373220\n",
      "      9.184636      6.090034      9.184636     12.373220\n",
      "      1.102044      6.090034      7.385230     12.373220\n",
      "      3.244779      6.090034      9.527964     12.373220\n",
      "      4.883249      6.090034     11.166434     12.373220\n",
      "     -2.594418      6.090034      9.971953     12.373220\n",
      "     -0.891510      6.090034     11.674860     12.373220\n",
      "      8.327236      6.090034      8.327236     12.373220\n"
     ]
    }
   ],
   "source": [
    "Cordic.angle_shift_test()"
   ]
  },
  {
   "cell_type": "markdown",
   "metadata": {},
   "source": [
    "2. 导入 _Cordic_ 库中的 _cossin_cordic_ 函数  \n",
    "cossin_cordic() returns the sine and cosine using the CORDIC method."
   ]
  },
  {
   "cell_type": "code",
   "execution_count": 45,
   "metadata": {},
   "outputs": [
    {
     "data": {
      "text/plain": [
       "array([ 1.68995365e-16, -1.00000000e+00])"
      ]
     },
     "execution_count": 45,
     "metadata": {},
     "output_type": "execute_result"
    }
   ],
   "source": [
    "Cordic.cossin_cordic(np.pi*1.5, 50)"
   ]
  },
  {
   "cell_type": "markdown",
   "metadata": {},
   "source": [
    " ### 自己实现旋转模式下计算$cos\\theta$的函数\n"
   ]
  },
  {
   "cell_type": "code",
   "execution_count": 46,
   "metadata": {},
   "outputs": [],
   "source": [
    "import numpy as np\n",
    "def angle_shift(alpha, beta):  # 将alpha 变换到beta~beta+2*pi 且变换后的值不变\n",
    "    if alpha < beta:\n",
    "        gamma = beta - np.mod(beta-alpha,2*np.pi) + 2*np.pi\n",
    "    else:\n",
    "        gamma = beta + np.mod(alpha-beta,2*np.pi)\n",
    "    return gamma\n",
    "#print(angle_shift(5,-np.pi))\n",
    "#print(angle_shift(1,-np.pi))\n",
    "#print(angle_shift(-4,-np.pi))\n",
    "#print(angle_shift(-0.5,-np.pi))"
   ]
  },
  {
   "cell_type": "code",
   "execution_count": 47,
   "metadata": {},
   "outputs": [],
   "source": [
    "def cordic_cos(theta, n):  #theta角度 n 迭代次数\n",
    "    theta = angle_shift(theta, -np.pi)\n",
    "\n",
    "    if theta > np.pi/2:\n",
    "        flag = -1\n",
    "        theta -= np.pi\n",
    "    elif theta < -np.pi/2:\n",
    "        flag = -1\n",
    "        theta += np.pi\n",
    "    else:\n",
    "        flag = 1       # -pi/2~pi/2方便计算\n",
    "\n",
    "    v = [1.0, 0.0]  #初始向量\n",
    "    v_pre = v.copy()\n",
    "    power2 = 1\n",
    "\n",
    "    a_i = cal_a_i(n)\n",
    "    k_list = cal_k(1, n, a_i)\n",
    "    k = k_list[-1]\n",
    "\n",
    "    for i in range(n):\n",
    "        sigma = -1 if theta<0 else 1\n",
    "\n",
    "        \n",
    "        v[0] = v_pre[0] - sigma*v_pre[1]*power2\n",
    "        v[1] = v_pre[1] + sigma*v_pre[0]*power2\n",
    "        v_pre = v.copy()\n",
    "        \n",
    "        theta -= sigma*a_i[i]\n",
    "\n",
    "        power2 /= 2\n",
    "    \n",
    "    v = [i*k for i in v]#模校正因子\n",
    "    v = [flag*i for i in v]\n",
    "\n",
    "    return v"
   ]
  },
  {
   "cell_type": "code",
   "execution_count": 48,
   "metadata": {},
   "outputs": [
    {
     "name": "stdout",
     "output_type": "stream",
     "text": [
      "[1.689953652959205e-16, 0.9999999999999999]\n",
      "[0.7071067811865476, -0.7071067811865479]\n"
     ]
    }
   ],
   "source": [
    "print(cordic_cos(-np.pi*1.5,50))\n",
    "print(cordic_cos(-np.pi/4,50))"
   ]
  }
 ],
 "metadata": {
  "interpreter": {
   "hash": "fcf1d46d271c46101d6967829d4a5f475342a2ce08e4944f989fbcdc9bb23690"
  },
  "kernelspec": {
   "display_name": "Python 3.9.9 64-bit",
   "language": "python",
   "name": "python3"
  },
  "language_info": {
   "codemirror_mode": {
    "name": "ipython",
    "version": 3
   },
   "file_extension": ".py",
   "mimetype": "text/x-python",
   "name": "python",
   "nbconvert_exporter": "python",
   "pygments_lexer": "ipython3",
   "version": "3.9.9"
  },
  "orig_nbformat": 4
 },
 "nbformat": 4,
 "nbformat_minor": 2
}
